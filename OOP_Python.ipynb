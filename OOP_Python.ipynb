{
  "nbformat": 4,
  "nbformat_minor": 0,
  "metadata": {
    "colab": {
      "provenance": [],
      "authorship_tag": "ABX9TyPqDY4Wqypzu168mD0xOq/3",
      "include_colab_link": true
    },
    "kernelspec": {
      "name": "python3",
      "display_name": "Python 3"
    },
    "language_info": {
      "name": "python"
    }
  },
  "cells": [
    {
      "cell_type": "markdown",
      "metadata": {
        "id": "view-in-github",
        "colab_type": "text"
      },
      "source": [
        "<a href=\"https://colab.research.google.com/github/ks-chauhan/Tutorials/blob/main/OOP_Python.ipynb\" target=\"_parent\"><img src=\"https://colab.research.google.com/assets/colab-badge.svg\" alt=\"Open In Colab\"/></a>"
      ]
    },
    {
      "cell_type": "code",
      "execution_count": null,
      "metadata": {
        "colab": {
          "base_uri": "https://localhost:8080/"
        },
        "id": "7ajC85IlW5er",
        "outputId": "c2efb9c2-f8ed-47b4-c315-0a75c4cb3656"
      },
      "outputs": [
        {
          "output_type": "stream",
          "name": "stdout",
          "text": [
            "['A', 'B', 'C', 'D']\n"
          ]
        }
      ],
      "source": [
        "# Class Definition\n",
        "class Course:\n",
        "  def __init__(self, name, max_students):\n",
        "    self.name = name\n",
        "    self.max_students = max_students\n",
        "    self.students = []\n",
        "  def addStudent(self,student_name):\n",
        "    if (len(self.students) < self.max_students):\n",
        "      self.students.append(student_name)\n",
        "      return True\n",
        "    return False\n",
        "\n",
        "# Object Creation\n",
        "s1 = Course(\"LMS\",10)\n",
        "s1.addStudent(\"A\")\n",
        "s1.addStudent(\"B\")\n",
        "s1.addStudent(\"C\")\n",
        "s1.addStudent(\"D\")\n",
        "print(s1.students)"
      ]
    },
    {
      "cell_type": "code",
      "source": [
        "# Inheritance Example Class Defintion\n",
        "class Animals():\n",
        "  def __init__(self, name, age):\n",
        "    self.name = name\n",
        "    self.age = age\n",
        "  def speak():\n",
        "    print(\"I do not speak\")\n",
        "\n",
        "class Dog(Animals):\n",
        "  def __init__(self,name,age):\n",
        "    super().__init__(name,age)\n",
        "  def speak(self):\n",
        "    print(\"!Woof\")\n",
        "\n",
        "# Object instantiation\n",
        "d1 = Dog(\"tom\",20)\n",
        "d1.speak()"
      ],
      "metadata": {
        "colab": {
          "base_uri": "https://localhost:8080/"
        },
        "id": "gWkCJheVYMY2",
        "outputId": "cbf301dc-f7b5-4d4e-bf1a-49afb8d497d4"
      },
      "execution_count": null,
      "outputs": [
        {
          "output_type": "stream",
          "name": "stdout",
          "text": [
            "!Woof\n"
          ]
        }
      ]
    },
    {
      "cell_type": "code",
      "source": [
        "# Pythonic Objects and Special Methods\n",
        "# Using duck typing we can make user defined functions behave like built-in functions\n",
        "# for example calling len will invoke __len__() on an object\n",
        "\n",
        "import math\n",
        "\n",
        "class Point:\n",
        "  def __init__(self,x1,x2):\n",
        "    self.x1 = float(x1)\n",
        "    self.x2 = float(x2)\n",
        "  def __add__(self, other):\n",
        "    return Point(self.x1+other.x1, self.x2+other.x2)\n",
        "  def __repr__(self):\n",
        "    return f\"point({self.x1}, {self.x2})\"\n",
        "\n",
        "p1 = Point(2,0)\n",
        "p2 = Point(1,2)\n",
        "\n",
        "print(p1+p2)"
      ],
      "metadata": {
        "colab": {
          "base_uri": "https://localhost:8080/"
        },
        "id": "UNCp8RUjavY5",
        "outputId": "305f3b6c-2bbe-44e9-86bd-a3dcdfee13bf"
      },
      "execution_count": null,
      "outputs": [
        {
          "output_type": "stream",
          "name": "stdout",
          "text": [
            "point(3.0, 2.0)\n"
          ]
        }
      ]
    },
    {
      "cell_type": "code",
      "source": [
        "# Duct Typing is a type system where object is considered compatible with a given type if it has all the methods and attributes that the type requires.\n",
        "\n",
        "class Ostrich:\n",
        "  def swim(self):\n",
        "    print(\"Ostrich cannot Swim\")\n",
        "  def fly(self):\n",
        "    print(\"Ostrich cannot Fly\")\n",
        "\n",
        "class Penguin:\n",
        "  def swim(self):\n",
        "    print(\"Penguin can Swim\")\n",
        "  def fly(self):\n",
        "    print(\"Penguin cannot Fly\")\n",
        "\n",
        "class Eagle:\n",
        "  def swim(self):\n",
        "    print(\"Eagle can Swim\")\n",
        "  def fly(self):\n",
        "    print(\"Eagle Fly\")\n",
        "\n",
        "o = Ostrich()\n",
        "p = Penguin()\n",
        "e = Eagle()\n",
        "\n",
        "birds = [o, p, e]\n",
        "for bird in birds:\n",
        "  bird.swim()\n",
        "  bird.fly()\n",
        "\n",
        "# can use hasattr to check presence of method\n",
        "\n",
        "hasattr(o, \"swim\")"
      ],
      "metadata": {
        "colab": {
          "base_uri": "https://localhost:8080/"
        },
        "id": "XNwUPfCVhhaZ",
        "outputId": "d3edee02-2a87-4b4c-9b58-36e91e642d3d"
      },
      "execution_count": null,
      "outputs": [
        {
          "output_type": "stream",
          "name": "stdout",
          "text": [
            "Ostrich cannot Swim\n",
            "Ostrich cannot Fly\n",
            "Penguin can Swim\n",
            "Penguin cannot Fly\n",
            "Eagle can Swim\n",
            "Eagle Fly\n"
          ]
        },
        {
          "output_type": "execute_result",
          "data": {
            "text/plain": [
              "True"
            ]
          },
          "metadata": {},
          "execution_count": 17
        }
      ]
    },
    {
      "cell_type": "markdown",
      "source": [
        "## Duck Typing Applications\n",
        "\n",
        "### Web Application\n",
        "\n",
        "Can be used to handle requests and responses. for Instance you might have different classes for GET and POST requests, but as long as they both have a process method, we can use duck typing to handle them in a uniform way.\n",
        "\n",
        "### Data Analysis\n",
        "\n",
        "might have different classes for handling CSV, Excel, and SQL Data but as long as they have a load_method we can use duck typing to load data from different sources in a consistent manner."
      ],
      "metadata": {
        "id": "zPn5oRVGntGs"
      }
    },
    {
      "cell_type": "markdown",
      "source": [
        "## Goose Typing & Abstract Base Class (ABC)\n",
        "\n",
        "In some usecases, we need explicit interface to make sure that we don't get runtime errros.\n",
        "\n",
        "Python doesn't have an interface keyword. Abstract Base Classes are used to define interfaces for explicit type checking at runtime, also supported by static type checkers.\n",
        "\n",
        "Abstract Base Classes (ABCs) define a specific set of public methods and attributes that all their subclasses must implement.\n",
        "\n",
        "to define abstract base class in python, we can use abc module from Standard library\n",
        "\n",
        "Below code creates Vehicle class which inherits from abc.ABC"
      ],
      "metadata": {
        "id": "FKm309_jtfWP"
      }
    },
    {
      "cell_type": "code",
      "source": [
        "from abc import ABC, abstractmethod\n",
        "\n",
        "class Vehicle(ABC):\n",
        "  def __init__(self, make, model, color):\n",
        "    self.make = make\n",
        "    self.model = model\n",
        "    self.color = color\n",
        "\n",
        "  @abstractmethod\n",
        "  def start(self):\n",
        "    raise NotImplementedError(\"start() must be implemented\")\n",
        "  def stop(self):\n",
        "    raise NotImplementedError(\"stop() must be implemented\")\n",
        "  def drive(self):\n",
        "    raise NotImplementedError(\"drive() must be implemented\")\n",
        "\n",
        "## Car class is implementing all the methods\n",
        "class Car(Vehicle):\n",
        "  def start(self):\n",
        "    print(\"Car started\")\n",
        "  def stop(self):\n",
        "    print(\"Car stopped\")\n",
        "  def drive(self):\n",
        "    print(\"Car driving\")\n",
        "\n",
        "print(Car(\"Hero\", \"Deluxe\", \"Black\"))\n",
        "## Below code will fail\n",
        "## -> Vehicle(\"Hero\", \"Deluxe\", \"Black\")"
      ],
      "metadata": {
        "id": "p0dlc4i2nDgH",
        "colab": {
          "base_uri": "https://localhost:8080/"
        },
        "outputId": "d686d578-e38a-4b4e-88c1-0980308b29ce"
      },
      "execution_count": null,
      "outputs": [
        {
          "output_type": "stream",
          "name": "stdout",
          "text": [
            "<__main__.Car object at 0x7b7ecb38bc20>\n"
          ]
        }
      ]
    },
    {
      "cell_type": "markdown",
      "source": [
        "## Virtual Subclass\n",
        "\n",
        "python allows you to register a class as a virtual subclass of ABC even if it does not inherit from it.\n",
        "\n",
        "This is useful when we have to register classes provided by 3rd party vendor as subclass of our ABC provided that class implements our methods."
      ],
      "metadata": {
        "id": "Jn-Ct4Yb32vc"
      }
    },
    {
      "cell_type": "code",
      "source": [
        "@Vehicle.register\n",
        "class Bus():\n",
        "  def start(self):\n",
        "    print(\"Car started\")\n",
        "  def stop(self):\n",
        "    print(\"Car stopped\")\n",
        "  def drive(self):\n",
        "    print(\"Car driving\")\n",
        "  def key(self):\n",
        "    return \"Key\"\n",
        "\n",
        "b = Bus()\n",
        "print(issubclass(Bus, Vehicle))"
      ],
      "metadata": {
        "colab": {
          "base_uri": "https://localhost:8080/"
        },
        "id": "RQVK8z5yyRul",
        "outputId": "7cd8a916-d1f5-4d45-d88e-2887b19f2266"
      },
      "execution_count": null,
      "outputs": [
        {
          "output_type": "stream",
          "name": "stdout",
          "text": [
            "True\n"
          ]
        }
      ]
    },
    {
      "cell_type": "markdown",
      "source": [
        "## Multiple Inheritance\n",
        "Python supports inheriting from more than one class.\n",
        "\n",
        "The Method Resolution Order(MRO) in python determines the order in which base classes are searched when executing a method.\n",
        "\n",
        "MRO ensures that the method from the first class in inheritance list is called first. If that class doesn't have the method then it moves on to the next class in MRO and so on until it finds the method it's looking for."
      ],
      "metadata": {
        "id": "DqJoBDLfn163"
      }
    },
    {
      "cell_type": "code",
      "source": [
        "## Custom Object comparison - to compare custom objects by their attributes we can define the eq method in the class.\n",
        "\n",
        "class MyClass:\n",
        "  def __init__(self, x, y):\n",
        "    self.x = x\n",
        "    self.y = y\n",
        "  def __eq__(self, other):\n",
        "    if not isinstance(other, MyClass):\n",
        "      return NotImplemented\n",
        "    return self.x == other.x and self.y == other.y\n",
        "class MyOtherClass:\n",
        "  def __init__(self, name):\n",
        "    self.name = name\n",
        "\n",
        "object1 = MyClass('x','y')\n",
        "object2 = MyClass('x','y')\n",
        "object3 = MyOtherClass('x')\n",
        "\n",
        "print(object1==object2)\n",
        "print(object1==object3)"
      ],
      "metadata": {
        "id": "OmYL2TaT4w8e",
        "colab": {
          "base_uri": "https://localhost:8080/"
        },
        "outputId": "34eb44a9-8651-47c8-d030-e43edafff5b2"
      },
      "execution_count": 5,
      "outputs": [
        {
          "output_type": "stream",
          "name": "stdout",
          "text": [
            "True\n",
            "False\n"
          ]
        }
      ]
    },
    {
      "cell_type": "code",
      "source": [],
      "metadata": {
        "id": "96SzyCGoxYn2"
      },
      "execution_count": null,
      "outputs": []
    }
  ]
}